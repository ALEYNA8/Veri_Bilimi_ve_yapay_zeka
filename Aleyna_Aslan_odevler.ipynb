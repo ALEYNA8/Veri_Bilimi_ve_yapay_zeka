{
 "cells": [
  {
   "cell_type": "code",
   "execution_count": 5,
   "id": "83d72bb0-0670-42c4-a1b2-b1db9dc6f231",
   "metadata": {},
   "outputs": [
    {
     "name": "stdout",
     "output_type": "stream",
     "text": [
      "--------Ödev 1-------\n",
      "String: 25 <class 'str'>\n",
      "Integer: 25 <class 'int'>\n",
      "Float: 25.0 <class 'float'>\n",
      "Boolean: True <class 'bool'>\n"
     ]
    }
   ],
   "source": [
    "print(\"--------Ödev 1-------\")\n",
    "sayi_str = \"25\"\n",
    "sayi_int = int(sayi_str)\n",
    "sayi_float = float(sayi_int)\n",
    "sayi_bool = bool(sayi_float)\n",
    "\n",
    "print(\"String:\" , sayi_str, type(sayi_str))\n",
    "print(\"Integer:\" , sayi_int, type(sayi_int))\n",
    "print(\"Float:\" , sayi_float, type(sayi_float))\n",
    "print(\"Boolean:\" , sayi_bool, type(sayi_bool))\n"
   ]
  },
  {
   "cell_type": "code",
   "execution_count": 8,
   "id": "5e1aabfa-24ff-485e-83b3-bc2fca3b29d6",
   "metadata": {},
   "outputs": [
    {
     "name": "stdout",
     "output_type": "stream",
     "text": [
      "------------Ödev 2---------\n",
      "İlayda Aleyna'dan küçük mü? True\n",
      "Musab İlayda'dan  büyük mü? False\n",
      "İlayda ve Musab Aleyna'dan küçük mü? True\n",
      "İlayda ya da Musab Aleyna'dan büyük mü? False\n"
     ]
    }
   ],
   "source": [
    "print(\"------------Ödev 2---------\")\n",
    "İlayda = 19\n",
    "Aleyna = 23\n",
    "Musab = 11\n",
    "\n",
    "print(\"İlayda Aleyna'dan küçük mü?\", İlayda < Aleyna)\n",
    "print(\"Musab İlayda'dan  büyük mü?\", Musab > İlayda)\n",
    "print(\"İlayda ve Musab Aleyna'dan küçük mü?\", (İlayda < Aleyna) and (Musab < Aleyna))\n",
    "print(\"İlayda ya da Musab Aleyna'dan büyük mü?\", ( İlayda > Aleyna) or (Musab > Aleyna))"
   ]
  },
  {
   "cell_type": "raw",
   "id": "bfd72759-4b7b-46f4-b408-6d174f3bcce7",
   "metadata": {},
   "source": [
    "print(\"---------Ödev 3------\")\n",
    "a = 10\n",
    "b = 5\n",
    "print(\"Toplam:\", a + b)\n",
    "print(\"Fark:\", a - b)\n",
    "print(\"Çarpım:\", a * b)\n",
    "\n",
    "if b !=0:\n",
    "   print(\"Bölüm:\", a/b)\n",
    "else:\n",
    "   print(\"Bölme işlemi yapılamaz (sıfıra bölme hatası).\")"
   ]
  },
  {
   "cell_type": "code",
   "execution_count": 9,
   "id": "f0929ae1-c458-4903-b7f6-c7be36186268",
   "metadata": {},
   "outputs": [
    {
     "name": "stdout",
     "output_type": "stream",
     "text": [
      "---------Ödev 4-------\n"
     ]
    },
    {
     "name": "stdin",
     "output_type": "stream",
     "text": [
      "Adın nedir?  Aleyna\n",
      "Yaşın kaç? 23\n",
      "Hangi şehirde yaşıyorsun?  Gaziantep\n",
      "Mesleğin ne?  QA Engineer\n"
     ]
    },
    {
     "name": "stdout",
     "output_type": "stream",
     "text": [
      "Merhaba Aleyna\n",
      "Yaş: 23\n",
      "Şehir: Gaziantep\n",
      "Meslek: QA Engineer\n"
     ]
    }
   ],
   "source": [
    "print(\"---------Ödev 4-------\")\n",
    "isim = input(\"Adın nedir? \")\n",
    "yas = input(\"Yaşın kaç?\") \n",
    "sehir = input(\"Hangi şehirde yaşıyorsun? \")\n",
    "meslek = input(\"Mesleğin ne? \")\n",
    "\n",
    "print(\"Merhaba\", isim)\n",
    "print(\"Yaş:\", yas)\n",
    "print(\"Şehir:\", sehir)\n",
    "print(\"Meslek:\", meslek)"
   ]
  },
  {
   "cell_type": "code",
   "execution_count": 15,
   "id": "af06f5e4-053f-4ef4-954c-0ad02b28d092",
   "metadata": {},
   "outputs": [
    {
     "name": "stdout",
     "output_type": "stream",
     "text": [
      "---------Ödev 5-------\n",
      "Kelimeler: Hi-Kod Veri Bilimi Atölyesi\n",
      "Büyük Harfli: HI-KOD VERI BILIMI ATÖLYESI\n",
      "Küçük Harfli: hi-kod veri bilimi atölyesi\n",
      "Çift Sayılar: 02468\n",
      "Tek Sayılar: 13579\n"
     ]
    }
   ],
   "source": [
    "print(\"---------Ödev 5-------\")\n",
    "ifade = \"Hi-Kod Veri Bilimi Atölyesi\"\n",
    "kelimeler = ifade.split()\n",
    "\n",
    "hi_kod = kelimeler[0]\n",
    "veri = kelimeler[1]\n",
    "bilimi = kelimeler[2]\n",
    "atolyesi = kelimeler[3]\n",
    "\n",
    "print(\"Kelimeler:\", hi_kod, veri, bilimi, atolyesi)\n",
    "print(\"Büyük Harfli:\", ifade.upper())\n",
    "print(\"Küçük Harfli:\", ifade.lower())\n",
    "rakamlar = \"0123456789\"\n",
    "ciftler = \"\" \n",
    "tekler = \"\"\n",
    "\n",
    "for rakam in rakamlar:\n",
    "    if int(rakam) %2 == 0:\n",
    "       ciftler += rakam\n",
    "    else:\n",
    "       tekler += rakam\n",
    "\n",
    "print(\"Çift Sayılar:\", ciftler)\n",
    "print(\"Tek Sayılar:\", tekler)\n",
    "       "
   ]
  }
 ],
 "metadata": {
  "kernelspec": {
   "display_name": "Python [conda env:base] *",
   "language": "python",
   "name": "conda-base-py"
  },
  "language_info": {
   "codemirror_mode": {
    "name": "ipython",
    "version": 3
   },
   "file_extension": ".py",
   "mimetype": "text/x-python",
   "name": "python",
   "nbconvert_exporter": "python",
   "pygments_lexer": "ipython3",
   "version": "3.12.7"
  }
 },
 "nbformat": 4,
 "nbformat_minor": 5
}
