{
 "cells": [
  {
   "cell_type": "code",
   "execution_count": null,
   "id": "80f9891e-009d-4f07-9825-c5e2e0d85d78",
   "metadata": {},
   "outputs": [],
   "source": [
    "# -----------------Ödev 1----------\n",
    "liste = [\"Python\", True, 9, \"3\", 8.4, \"Hi-Kod\", \"False\", 4.7]\n",
    "\n",
    "print(\"liste[3]:\", liste[3])        # \"3\"\n",
    "print(\"liste[5]:\", liste[5])        # \"Hi-Kod\"\n",
    "print(\"liste[7]:\", liste[7])        # 4.7\n",
    "print(\"liste[2:6]:\", liste[2:6])    # [9, \"3\", 8.4, \"Hi-Kod\"]\n",
    "print(\"liste[4:]:\", liste[4:])      # [8.4, \"Hi-Kod\", \"False\", 4.7]\n",
    "\n"
   ]
  },
  {
   "cell_type": "code",
   "execution_count": null,
   "id": "66c7aaff-b2a8-467a-aa48-2d7ced802293",
   "metadata": {},
   "outputs": [],
   "source": [
    "# ------------------Ödev 2-----------\n",
    "\n",
    "liste = [\"Python\", True, 9, \"3\", 8.4, \"Hi-Kod\", \"False\", 4.7]\n",
    "yeni_liste = []\n",
    "\n",
    "for eleman in liste:\n",
    "    if isinstance(eleman, str):\n",
    "        yeni_liste.append(eleman)\n",
    "\n",
    "print(\"String veri tipindeki öğeler:\", yeni_liste)\n"
   ]
  },
  {
   "cell_type": "code",
   "execution_count": null,
   "id": "2b5793bc-65cf-4e10-b9fe-0244789079d3",
   "metadata": {},
   "outputs": [],
   "source": [
    "# -----------------Ödev 3-------------\n",
    "\n",
    "meyveler = [\"Elma\", \"Muz\", \"Çilek\", \"Kivi\"]\n",
    "\n",
    "for index, meyve in enumerate(meyveler):\n",
    "    print(\"{}. indexte bulunan meyve: {}\".format(index, meyve))\n"
   ]
  }
 ],
 "metadata": {
  "kernelspec": {
   "display_name": "Python 3 (ipykernel)",
   "language": "python",
   "name": "python3"
  },
  "language_info": {
   "name": ""
  }
 },
 "nbformat": 4,
 "nbformat_minor": 5
}
