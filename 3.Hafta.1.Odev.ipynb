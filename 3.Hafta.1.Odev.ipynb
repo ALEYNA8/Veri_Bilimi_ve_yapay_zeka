{
 "cells": [
  {
   "cell_type": "code",
   "execution_count": 2,
   "id": "e5d4b654-bf2a-49d2-aa0f-3a6295327816",
   "metadata": {},
   "outputs": [
    {
     "name": "stdin",
     "output_type": "stream",
     "text": [
      "Lütfen Maaşınızı Giriniz:  50000\n"
     ]
    },
    {
     "name": "stdout",
     "output_type": "stream",
     "text": [
      "Vergi oranınız: %30.0\n",
      "Maaşınızdan kesilecek vergi miktarı: 15000.0 TL\n",
      "Yeni maaşınız: 35000.0 TL\n"
     ]
    }
   ],
   "source": [
    "#-------------1.Odev--------------\n",
    "maas = float(input(\"Lütfen Maaşınızı Giriniz: \"))\n",
    "\n",
    "if maas <= 10000:\n",
    "    vergi_orani = 0.05\n",
    "elif maas <= 25000:\n",
    "    vergi_orani = 0.10\n",
    "elif maas <= 45000:\n",
    "    vergi_orani = 0.25\n",
    "else:\n",
    "    vergi_orani = 0.30\n",
    "\n",
    "vergi_miktari = maas * vergi_orani\n",
    "yeni_maas = maas - vergi_miktari\n",
    "\n",
    "print(f\"Vergi oranınız: %{vergi_orani * 100}\")\n",
    "print(f\"Maaşınızdan kesilecek vergi miktarı: {vergi_miktari} TL\")\n",
    "print(f\"Yeni maaşınız: {yeni_maas} TL\")"
   ]
  },
  {
   "cell_type": "code",
   "execution_count": 3,
   "id": "e474009e-fcd2-4f4a-8ea3-4ea5b3b9640c",
   "metadata": {},
   "outputs": [
    {
     "name": "stdin",
     "output_type": "stream",
     "text": [
      "Kullanıcı adınızı giriniz:  Aleyna.\n",
      "Şifrenizi oluşturunuz:  Asln1905\n"
     ]
    },
    {
     "name": "stdout",
     "output_type": "stream",
     "text": [
      "Hesabınız Oluşturuldu.\n"
     ]
    }
   ],
   "source": [
    "#-----------2.Odev------------\n",
    "kullanici_adi = input(\"Kullanıcı adınızı giriniz: \")\n",
    "sifre = input(\"Şifrenizi oluşturunuz: \")\n",
    "\n",
    "if len(sifre) >= 6:\n",
    "    print(\"Hesabınız Oluşturuldu.\")\n",
    "else:\n",
    "    print(\"Şifreniz en az 6 karakterli olmalıdır.\")"
   ]
  },
  {
   "cell_type": "code",
   "execution_count": 4,
   "id": "de9699af-e5dc-4957-8027-de3562241380",
   "metadata": {},
   "outputs": [
    {
     "name": "stdin",
     "output_type": "stream",
     "text": [
      "Şifrenizi Oluşturunuz (5-10 karakter arası):  100000000000\n"
     ]
    },
    {
     "name": "stdout",
     "output_type": "stream",
     "text": [
      "Lütfen girdiğiniz şifre 5 haneden fazla olmasın! \n"
     ]
    },
    {
     "name": "stdin",
     "output_type": "stream",
     "text": [
      "Şifrenizi Oluşturunuz (5-10 karakter arası):  100000\n"
     ]
    },
    {
     "name": "stdout",
     "output_type": "stream",
     "text": [
      "Hesabınız OLuşturuldu\n"
     ]
    }
   ],
   "source": [
    "#------------3.Odev-------------\n",
    "while True:\n",
    "    sifre = input(\"Şifrenizi Oluşturunuz (5-10 karakter arası): \")\n",
    "    if 5 <= len(sifre) <= 10:\n",
    "        print(\"Hesabınız OLuşturuldu\")\n",
    "        break\n",
    "    else:\n",
    "        print(\"Lütfen girdiğiniz şifre 5 haneden az 10 haneden fazla olmasın! \")"
   ]
  },
  {
   "cell_type": "code",
   "execution_count": 5,
   "id": "c1876a30-e08e-439b-a4ac-9b456ca35be1",
   "metadata": {},
   "outputs": [
    {
     "name": "stdin",
     "output_type": "stream",
     "text": [
      "Kullanıcı adınızı giriniz:  aleyna\n",
      "Şifre giriniz:  1234567\n"
     ]
    },
    {
     "name": "stdout",
     "output_type": "stream",
     "text": [
      "Yanlış şifre girildi!\n",
      "Kalan hakkınız: 2\n"
     ]
    },
    {
     "name": "stdin",
     "output_type": "stream",
     "text": [
      "Kullanıcı adınızı giriniz:  12345678\n",
      "Şifre giriniz:  1234\n"
     ]
    },
    {
     "name": "stdout",
     "output_type": "stream",
     "text": [
      "Yanlış şifre girildi!\n",
      "Kalan hakkınız: 1\n"
     ]
    },
    {
     "name": "stdin",
     "output_type": "stream",
     "text": [
      "Kullanıcı adınızı giriniz:  123\n",
      "Şifre giriniz:  1234\n"
     ]
    },
    {
     "name": "stdout",
     "output_type": "stream",
     "text": [
      "Yanlış şifre girildi!\n",
      "3 kere yanlış giriş yapıldı, program sonlandırıldı.\n"
     ]
    }
   ],
   "source": [
    "#------------4.Odev-------------\n",
    "dogru_isim = \"aleyna\"\n",
    "dogru_sifre = \"123456\"\n",
    "hak = 3\n",
    "\n",
    "while hak > 0:\n",
    "    isim = input(\"Kullanıcı adınızı giriniz: \")\n",
    "    sifre = input(\"Şifre giriniz: \")\n",
    "\n",
    "    if isim == dogru_isim and sifre ==dogru_sifre:\n",
    "        print(\"Giriş yapıldı.\")\n",
    "        break\n",
    "    else:\n",
    "        hak -= 1\n",
    "        print(\"Yanlış şifre girildi!\")\n",
    "        if hak > 0:\n",
    "            print(f\"Kalan hakkınız: {hak}\")\n",
    "        else:\n",
    "            print(\"3 kere yanlış giriş yapıldı, program sonlandırıldı.\")"
   ]
  },
  {
   "cell_type": "code",
   "execution_count": null,
   "id": "f552b989-68da-4996-8cb0-d866a314e6a3",
   "metadata": {},
   "outputs": [],
   "source": []
  }
 ],
 "metadata": {
  "kernelspec": {
   "display_name": "Python [conda env:base] *",
   "language": "python",
   "name": "conda-base-py"
  },
  "language_info": {
   "codemirror_mode": {
    "name": "ipython",
    "version": 3
   },
   "file_extension": ".py",
   "mimetype": "text/x-python",
   "name": "python",
   "nbconvert_exporter": "python",
   "pygments_lexer": "ipython3",
   "version": "3.12.7"
  }
 },
 "nbformat": 4,
 "nbformat_minor": 5
}
