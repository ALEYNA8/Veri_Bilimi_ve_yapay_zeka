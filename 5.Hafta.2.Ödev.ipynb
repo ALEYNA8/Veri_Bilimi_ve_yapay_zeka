{
 "cells": [
  {
   "cell_type": "code",
   "execution_count": null,
   "id": "b177a061-a04a-4124-8705-eaa1fbeaa15b",
   "metadata": {},
   "outputs": [],
   "source": [
    "import pandas as pd\n",
    "\n",
    "sozluk = {\n",
    "    \"Kategori\": [\"Giyim\",\"Giyim\", \"Ayakkabı\",\"Aksesuar\",\"Ayakkabı\",\"Giyim\",\"Aksesuar\",\"Aksesuar\",\"Ayakkabı\",\"Giyim\"],\n",
    "    \"Ürün\" : [\"Kazak\",\"T-shirt\",\"Sandalet\",\"Küpe\",\"Spor Ayakkabı\",\"Pantolon\",\"Kolye\",\"Yüzük\",\"Çizme\",\"Ceket\"],\n",
    "    \"Fiyat\" : [300,180,450,50,700,400,150,80,850,900]\n",
    "}\n",
    "\n",
    "df = pd.DataFrame(sozluk)\n",
    "\n",
    "df\n"
   ]
  },
  {
   "cell_type": "code",
   "execution_count": null,
   "id": "e39f4a15-b838-4fea-a360-dd27115d58c2",
   "metadata": {},
   "outputs": [],
   "source": [
    "# 2.indexte bulunan kategori (sadece kategori)\n",
    "kategori_2 = df.loc[2, \"Kategori\"]\n",
    "print(\"2. indexteki kategori:\", kategori_2)\n",
    "\n",
    "# 2.indexte bulunan ürün (sadece ürün)\n",
    "urun_2 = df.loc[2, \"Ürün\"]\n",
    "print(\"2. indexteki ürün:\", urun_2)\n",
    "\n",
    "# 4.indexten 9.indexe kadar olan veriler (kategori, ürün, fiyat)\n",
    "aralik_4_9 = df.loc[4:9, :]\n",
    "print(\"\\n4 ile 9 index arası veriler:\\n\", aralik_4_9)\n",
    "\n",
    "# 1.indexten 6.indexe kadar olan ürünler (sadece ürün)\n",
    "urunler_1_6 = df.loc[1:6, \"Ürün\"]\n",
    "print(\"\\n1 ile 6 index arası ürünler:\\n\", urunler_1_6)\n"
   ]
  },
  {
   "cell_type": "code",
   "execution_count": null,
   "id": "4542468d-a27f-45b9-b8e0-29bab28b92f3",
   "metadata": {},
   "outputs": [],
   "source": []
  }
 ],
 "metadata": {
  "kernelspec": {
   "display_name": "Python 3 (ipykernel)",
   "language": "python",
   "name": "python3"
  },
  "language_info": {
   "name": ""
  }
 },
 "nbformat": 4,
 "nbformat_minor": 5
}
