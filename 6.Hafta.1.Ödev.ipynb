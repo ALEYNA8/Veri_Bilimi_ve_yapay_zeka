{
 "cells": [
  {
   "cell_type": "code",
   "execution_count": null,
   "id": "a7a4daaa-0290-46f2-aeec-841325b40359",
   "metadata": {},
   "outputs": [],
   "source": [
    "print(df[\"gender\"].value_counts())\n",
    "print(df[\"lunch\"].value_counts())\n"
   ]
  },
  {
   "cell_type": "code",
   "execution_count": null,
   "id": "aa829520-0e02-49aa-81ba-215ee2c1815a",
   "metadata": {},
   "outputs": [],
   "source": [
    "sns.countplot(x=\"gender\", data=df)\n",
    "plt.title(\"Cinsiyete Göre Öğrenci Sayısı\")\n",
    "plt.show()\n"
   ]
  },
  {
   "cell_type": "code",
   "execution_count": null,
   "id": "09f93b8a-46e4-445b-895e-969bdf68b623",
   "metadata": {},
   "outputs": [],
   "source": [
    "sns.countplot(x=\"gender\", data=df)\n",
    "plt.title(\"Cinsiyete Göre Öğrenci Sayısı\")\n",
    "plt.show()\n"
   ]
  },
  {
   "cell_type": "code",
   "execution_count": null,
   "id": "9e3b53d4-4505-417a-a547-394bd77a3d70",
   "metadata": {},
   "outputs": [],
   "source": [
    "race = df[\"race/ethnicity\"].value_counts()\n",
    "race\n"
   ]
  },
  {
   "cell_type": "code",
   "execution_count": null,
   "id": "25c3b722-b702-4a27-87f6-1833275f0dca",
   "metadata": {},
   "outputs": [],
   "source": [
    "sns.countplot(x=\"race/ethnicity\", data=df, order=race.index)\n",
    "plt.title(\"Etnik Gruba Göre Öğrenci Sayısı\")\n",
    "plt.show()\n"
   ]
  },
  {
   "cell_type": "code",
   "execution_count": null,
   "id": "8f8ca3cd-7212-4015-94b6-4cc0185ec5f5",
   "metadata": {},
   "outputs": [],
   "source": [
    "df[\"parental level of education\"].value_counts()\n"
   ]
  },
  {
   "cell_type": "code",
   "execution_count": null,
   "id": "676f642d-7d39-47b0-be91-7bff83a2ac85",
   "metadata": {},
   "outputs": [],
   "source": [
    "df[\"test preparation course\"].value_counts()\n"
   ]
  },
  {
   "cell_type": "code",
   "execution_count": null,
   "id": "c582086b-c0e5-41e1-92c4-42e15cf1a703",
   "metadata": {},
   "outputs": [],
   "source": [
    "df.groupby(\"gender\")[[\"math score\", \"reading score\", \"writing score\"]].mean()\n"
   ]
  },
  {
   "cell_type": "code",
   "execution_count": null,
   "id": "893c63e4-a98f-465a-af97-cd2668734bfe",
   "metadata": {},
   "outputs": [],
   "source": [
    "df.groupby(\"race/ethnicity\")[[\"math score\", \"reading score\", \"writing score\"]].mean()\n"
   ]
  },
  {
   "cell_type": "code",
   "execution_count": null,
   "id": "f994d901-7a3b-4f96-bca3-a23c4f399972",
   "metadata": {},
   "outputs": [],
   "source": [
    "df.groupby(\"parental level of education\")[[\"math score\", \"reading score\", \"writing score\"]].mean()\n"
   ]
  },
  {
   "cell_type": "code",
   "execution_count": null,
   "id": "8c6c72c4-4447-414c-b9db-b19549f5fe50",
   "metadata": {},
   "outputs": [],
   "source": [
    "df.groupby(\"lunch\")[[\"math score\", \"reading score\", \"writing score\"]].mean()\n"
   ]
  },
  {
   "cell_type": "code",
   "execution_count": null,
   "id": "ee986109-e898-4bac-a99e-da7d5fef1508",
   "metadata": {},
   "outputs": [],
   "source": [
    "df.groupby(\"test preparation course\")[[\"math score\", \"reading score\", \"writing score\"]].mean()\n"
   ]
  }
 ],
 "metadata": {
  "kernelspec": {
   "display_name": "Python 3 (ipykernel)",
   "language": "python",
   "name": "python3"
  },
  "language_info": {
   "name": ""
  }
 },
 "nbformat": 4,
 "nbformat_minor": 5
}
