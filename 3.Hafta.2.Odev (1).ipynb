{
 "cells": [
  {
   "cell_type": "code",
   "execution_count": 17,
   "id": "2ddc912c-e6ec-4959-b217-3e3cd791894e",
   "metadata": {},
   "outputs": [
    {
     "name": "stdin",
     "output_type": "stream",
     "text": [
      "Yariçapı girin:  8\n"
     ]
    },
    {
     "name": "stdout",
     "output_type": "stream",
     "text": [
      "Yarıçap: 8.0\n",
      "Dairenin alanı: 201.06\n"
     ]
    }
   ],
   "source": [
    "#-------------1.Odev-------------\n",
    "import math\n",
    "\n",
    "def daire_alani_hesapla():\n",
    "    yaricap = float(input(\"Yariçapı girin: \"))\n",
    "    alan = math.pi * (yaricap ** 2)\n",
    "    print(\"Yarıçap:\" , yaricap)\n",
    "    print(\"Dairenin alanı: {:.2f}\".format(alan))\n",
    "    \n",
    "daire_alani_hesapla()"
   ]
  },
  {
   "cell_type": "code",
   "execution_count": 28,
   "id": "8f6cf01c-787f-4630-8934-39a681463c31",
   "metadata": {},
   "outputs": [
    {
     "name": "stdin",
     "output_type": "stream",
     "text": [
      "Faktoriyel almak istediğiniz sayıyı girin:  100\n"
     ]
    },
    {
     "name": "stdout",
     "output_type": "stream",
     "text": [
      "Girdiğiniz 100 sayının faktöriyeli: 1\n"
     ]
    }
   ],
   "source": [
    "#-------------2.Odev-------------\n",
    "def faktoriyel(sayi):\n",
    "    sonuc = 1\n",
    "    for i in range(1, sayi + 1):\n",
    "        sonuc *= i\n",
    "        return sonuc\n",
    "\n",
    "def faktoriyel_al():\n",
    "    sayi = int(input(\"Faktoriyel almak istediğiniz sayıyı girin: \"))\n",
    "    print(f\"Girdiğiniz {sayi} sayının faktöriyeli: {faktoriyel(sayi)}\")\n",
    "    \n",
    "faktoriyel_al()"
   ]
  },
  {
   "cell_type": "code",
   "execution_count": 29,
   "id": "b16c1aa4-1e4f-4df0-93a8-d8ad5f009ccd",
   "metadata": {},
   "outputs": [
    {
     "name": "stdin",
     "output_type": "stream",
     "text": [
      "Dogum yılınızı girin:  2002\n"
     ]
    },
    {
     "data": {
      "text/plain": [
       "23"
      ]
     },
     "execution_count": 29,
     "metadata": {},
     "output_type": "execute_result"
    }
   ],
   "source": [
    "#-------------3.Odev-----------\n",
    "def yas_hesapla():\n",
    "    dogum_yili = int(input(\"Dogum yılınızı girin: \"))\n",
    "    mevcut_yil = 2025\n",
    "    yas = mevcut_yil - dogum_yili\n",
    "    return yas\n",
    "\n",
    "yas_hesapla()"
   ]
  },
  {
   "cell_type": "code",
   "execution_count": 32,
   "id": "d1f222eb-2e70-4ee6-a525-b486338f37f1",
   "metadata": {},
   "outputs": [
    {
     "name": "stdin",
     "output_type": "stream",
     "text": [
      "Adınızı Girin:  aleyna\n",
      "Doğum Yılınızı Girin:  2002\n"
     ]
    },
    {
     "name": "stdout",
     "output_type": "stream",
     "text": [
      "aleyna, emekliliğinize 42 yıl kaldı.\n"
     ]
    }
   ],
   "source": [
    "def yas_hesapla(dogum_yili):\n",
    "    mevcut_yil = 2025\n",
    "    yas = mevcut_yil - dogum_yili\n",
    "    return yas\n",
    "\n",
    "def emeklilik_durumu():\n",
    "    isim = input(\"Adınızı Girin: \")\n",
    "    dogum_yili = int(input(\"Doğum Yılınızı Girin: \"))\n",
    "    yas = yas_hesapla(dogum_yili)\n",
    "\n",
    "    if yas >= 65:\n",
    "        print(\"Emekli oldunuz.\")\n",
    "    else:\n",
    "        kalan_yil = 65 - yas\n",
    "        print(f\"{isim}, emekliliğinize {kalan_yil} yıl kaldı.\")\n",
    "\n",
    "emeklilik_durumu()\n",
    "    "
   ]
  }
 ],
 "metadata": {
  "kernelspec": {
   "display_name": "Python [conda env:base] *",
   "language": "python",
   "name": "conda-base-py"
  },
  "language_info": {
   "codemirror_mode": {
    "name": "ipython",
    "version": 3
   },
   "file_extension": ".py",
   "mimetype": "text/x-python",
   "name": "python",
   "nbconvert_exporter": "python",
   "pygments_lexer": "ipython3",
   "version": "3.12.7"
  }
 },
 "nbformat": 4,
 "nbformat_minor": 5
}
